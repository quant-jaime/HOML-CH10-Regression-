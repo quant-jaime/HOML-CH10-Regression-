{
 "cells": [
  {
   "cell_type": "code",
   "execution_count": 2,
   "metadata": {},
   "outputs": [],
   "source": [
    "import pandas as pd\n",
    "import numpy as np \n",
    "import matplotlib.pyplot as plt\n",
    "import tensorflow as tf\n",
    "from tensorflow import keras"
   ]
  },
  {
   "cell_type": "code",
   "execution_count": 4,
   "metadata": {},
   "outputs": [],
   "source": [
    "from sklearn.datasets import fetch_california_housing\n",
    "from sklearn.model_selection import train_test_split\n",
    "from sklearn.preprocessing import StandardScaler"
   ]
  },
  {
   "cell_type": "code",
   "execution_count": 5,
   "metadata": {},
   "outputs": [],
   "source": [
    "## MlP Hosuing Regression problem \n",
    "housing = fetch_california_housing()\n",
    "\n",
    "X_train_full, X_test, y_train_full, y_test = train_test_split(housing.data, housing.target)\n",
    "\n",
    "X_train, X_valid, y_train, y_valid = train_test_split(X_train_full, y_train_full)\n",
    "\n",
    "scaler = StandardScaler()\n",
    "\n",
    "X_train = scaler.fit_transform(X_train)\n",
    "X_valid = scaler.transform(X_valid)\n",
    "X_test = scaler.transform(X_test)"
   ]
  },
  {
   "cell_type": "code",
   "execution_count": 6,
   "metadata": {},
   "outputs": [
    {
     "name": "stdout",
     "output_type": "stream",
     "text": [
      "WARNING:tensorflow:From /anaconda3/lib/python3.7/site-packages/tensorflow/python/ops/resource_variable_ops.py:435: colocate_with (from tensorflow.python.framework.ops) is deprecated and will be removed in a future version.\n",
      "Instructions for updating:\n",
      "Colocations handled automatically by placer.\n"
     ]
    }
   ],
   "source": [
    "# using Sequential API to build, train, evluate and use regression to make predictions\n",
    "# ouput layer is a single neuron with no activation function\n",
    "\n",
    "model = keras.models.Sequential([\n",
    "    keras.layers.Dense(30, activation = 'relu', input_shape = X_train.shape[1:]),\n",
    "    keras.layers.Dense(1)\n",
    "])"
   ]
  },
  {
   "cell_type": "code",
   "execution_count": 9,
   "metadata": {},
   "outputs": [
    {
     "name": "stdout",
     "output_type": "stream",
     "text": [
      "Train on 11610 samples, validate on 3870 samples\n",
      "Epoch 1/20\n",
      "11610/11610 [==============================] - 1s 54us/sample - loss: 0.3593 - val_loss: 0.3853\n",
      "Epoch 2/20\n",
      "11610/11610 [==============================] - 0s 37us/sample - loss: 0.3682 - val_loss: 0.3647\n",
      "Epoch 3/20\n",
      "11610/11610 [==============================] - 0s 35us/sample - loss: 0.3554 - val_loss: 0.3662\n",
      "Epoch 4/20\n",
      "11610/11610 [==============================] - 0s 35us/sample - loss: 0.3555 - val_loss: 0.3710\n",
      "Epoch 5/20\n",
      "11610/11610 [==============================] - 0s 35us/sample - loss: 0.3624 - val_loss: 0.3650\n",
      "Epoch 6/20\n",
      "11610/11610 [==============================] - 0s 36us/sample - loss: 0.3524 - val_loss: 0.3616\n",
      "Epoch 7/20\n",
      "11610/11610 [==============================] - 0s 35us/sample - loss: 0.3549 - val_loss: 0.3608\n",
      "Epoch 8/20\n",
      "11610/11610 [==============================] - 0s 34us/sample - loss: 0.3503 - val_loss: 0.3630\n",
      "Epoch 9/20\n",
      "11610/11610 [==============================] - 0s 36us/sample - loss: 0.3562 - val_loss: 0.3699\n",
      "Epoch 10/20\n",
      "11610/11610 [==============================] - 0s 36us/sample - loss: 0.3532 - val_loss: 0.3594\n",
      "Epoch 11/20\n",
      "11610/11610 [==============================] - 0s 36us/sample - loss: 0.3716 - val_loss: 0.3588\n",
      "Epoch 12/20\n",
      "11610/11610 [==============================] - 0s 35us/sample - loss: 0.3567 - val_loss: 0.3654\n",
      "Epoch 13/20\n",
      "11610/11610 [==============================] - 0s 36us/sample - loss: 0.3456 - val_loss: 0.3529\n",
      "Epoch 14/20\n",
      "11610/11610 [==============================] - 0s 42us/sample - loss: 0.3473 - val_loss: 0.3528\n",
      "Epoch 15/20\n",
      "11610/11610 [==============================] - 0s 36us/sample - loss: 0.3475 - val_loss: 0.3544\n",
      "Epoch 16/20\n",
      "11610/11610 [==============================] - 0s 35us/sample - loss: 0.3430 - val_loss: 0.3582\n",
      "Epoch 17/20\n",
      "11610/11610 [==============================] - 0s 34us/sample - loss: 0.3439 - val_loss: 0.3516\n",
      "Epoch 18/20\n",
      "11610/11610 [==============================] - 0s 35us/sample - loss: 0.3414 - val_loss: 0.3552\n",
      "Epoch 19/20\n",
      "11610/11610 [==============================] - 0s 38us/sample - loss: 0.3429 - val_loss: 0.3520\n",
      "Epoch 20/20\n",
      "11610/11610 [==============================] - 0s 36us/sample - loss: 0.3397 - val_loss: 0.3505\n"
     ]
    }
   ],
   "source": [
    "# loss function is MSE \n",
    "# using optimizer as Stochastic Gradient Decsent \n",
    "model.compile(loss='mean_squared_error', optimizer ='sgd')\n",
    "\n",
    "history = model.fit(X_train, y_train,\n",
    "                    epochs = 20,\n",
    "                    validation_data = (X_valid, y_valid))"
   ]
  },
  {
   "cell_type": "code",
   "execution_count": 13,
   "metadata": {},
   "outputs": [
    {
     "name": "stdout",
     "output_type": "stream",
     "text": [
      "_________________________________________________________________\n",
      "Layer (type)                 Output Shape              Param #   \n",
      "=================================================================\n",
      "dense (Dense)                (None, 30)                270       \n",
      "_________________________________________________________________\n",
      "dense_1 (Dense)              (None, 1)                 31        \n",
      "=================================================================\n",
      "Total params: 301\n",
      "Trainable params: 301\n",
      "Non-trainable params: 0\n",
      "_________________________________________________________________\n"
     ]
    }
   ],
   "source": [
    "model.summary()"
   ]
  },
  {
   "cell_type": "code",
   "execution_count": 15,
   "metadata": {},
   "outputs": [
    {
     "data": {
      "text/plain": [
       "{'loss': [0.35931673800503766,\n",
       "  0.3682303072921579,\n",
       "  0.3553605007160131,\n",
       "  0.3554711030691888,\n",
       "  0.36236910681648565,\n",
       "  0.35244544199270794,\n",
       "  0.35492681076462984,\n",
       "  0.3503164974576332,\n",
       "  0.3561720894776368,\n",
       "  0.35316138206937003,\n",
       "  0.37163116697809184,\n",
       "  0.3567048991322004,\n",
       "  0.3455604277531922,\n",
       "  0.3472503146151856,\n",
       "  0.3475423958951497,\n",
       "  0.34303110575850515,\n",
       "  0.34385176029932285,\n",
       "  0.3414187027913142,\n",
       "  0.3428660692221948,\n",
       "  0.339717073655149],\n",
       " 'val_loss': [0.3852684591937743,\n",
       "  0.36473210171365616,\n",
       "  0.36622393043466317,\n",
       "  0.37103659559897983,\n",
       "  0.36495632348288554,\n",
       "  0.3616022600992089,\n",
       "  0.36083518550839533,\n",
       "  0.3629588866264629,\n",
       "  0.3698937514955683,\n",
       "  0.3593859544712136,\n",
       "  0.35877446576144345,\n",
       "  0.36543246464519846,\n",
       "  0.35290261924420835,\n",
       "  0.35283857633285126,\n",
       "  0.3543718752934951,\n",
       "  0.35816873262710963,\n",
       "  0.35155828005275674,\n",
       "  0.3552224186809796,\n",
       "  0.35203445770943814,\n",
       "  0.35051070684302377]}"
      ]
     },
     "execution_count": 15,
     "metadata": {},
     "output_type": "execute_result"
    }
   ],
   "source": [
    "history.history"
   ]
  },
  {
   "cell_type": "code",
   "execution_count": 16,
   "metadata": {},
   "outputs": [
    {
     "data": {
      "text/plain": [
       "{'batch_size': 32,\n",
       " 'epochs': 20,\n",
       " 'steps': None,\n",
       " 'samples': 11610,\n",
       " 'verbose': 0,\n",
       " 'do_validation': True,\n",
       " 'metrics': ['loss', 'val_loss']}"
      ]
     },
     "execution_count": 16,
     "metadata": {},
     "output_type": "execute_result"
    }
   ],
   "source": [
    "history.params"
   ]
  },
  {
   "cell_type": "code",
   "execution_count": 18,
   "metadata": {},
   "outputs": [
    {
     "data": {
      "image/png": "[encoded data removed]",
      "text/plain": [
       "<Figure size 576x360 with 1 Axes>"
      ]
     },
     "metadata": {
      "needs_background": "light"
     },
     "output_type": "display_data"
    }
   ],
   "source": [
    "pd.DataFrame(history.history).plot(figsize = (8,5))\n",
    "plt.grid(True)\n",
    "plt.gca().set_ylim(0.3,0.4)\n",
    "plt.show()"
   ]
  },
  {
   "cell_type": "code",
   "execution_count": 19,
   "metadata": {},
   "outputs": [
    {
     "name": "stdout",
     "output_type": "stream",
     "text": [
      "5160/5160 [==============================] - 0s 16us/sample - loss: 0.3425\n"
     ]
    }
   ],
   "source": [
    "mse_test = model.evaluate(X_test, y_test)"
   ]
  },
  {
   "cell_type": "code",
   "execution_count": 22,
   "metadata": {},
   "outputs": [
    {
     "name": "stdout",
     "output_type": "stream",
     "text": [
      "[[ 2.03778642 -1.63269974  1.47872814  0.39604585 -1.27569436  0.09284319\n",
      "  -0.75601483  0.97855224]\n",
      " [-0.71282585  0.66567457 -0.61430238 -0.12811502 -0.52677804  0.21264989\n",
      "  -0.72792523  0.75377113]\n",
      " [-0.36069382  0.50716599 -0.05103212 -0.31469231 -0.52496248  0.00688381\n",
      "  -1.37398615  1.24329442]]\n"
     ]
    },
    {
     "data": {
      "text/plain": [
       "array([[3.5571933],\n",
       "       [1.2696053],\n",
       "       [1.5360727]], dtype=float32)"
      ]
     },
     "execution_count": 22,
     "metadata": {},
     "output_type": "execute_result"
    }
   ],
   "source": [
    "X_new = X_test[:3]\n",
    "print(X_new)\n",
    "y_pred = model.predict(X_new)\n",
    "y_pred"
   ]
  },
  {
   "cell_type": "code",
   "execution_count": null,
   "metadata": {},
   "outputs": [],
   "source": []
  }
 ],
 "metadata": {
  "kernelspec": {
   "display_name": "Python 3",
   "language": "python",
   "name": "python3"
  },
  "language_info": {
   "codemirror_mode": {
    "name": "ipython",
    "version": 3
   },
   "file_extension": ".py",
   "mimetype": "text/x-python",
   "name": "python",
   "nbconvert_exporter": "python",
   "pygments_lexer": "ipython3",
   "version": "3.7.0"
  }
 },
 "nbformat": 4,
 "nbformat_minor": 2
}
